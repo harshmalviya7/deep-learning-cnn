{
 "cells": [
  {
   "cell_type": "code",
   "execution_count": 1,
   "metadata": {},
   "outputs": [],
   "source": [
    "import tensorflow as tf\n",
    "from tensorflow import keras"
   ]
  },
  {
   "cell_type": "code",
   "execution_count": 8,
   "metadata": {},
   "outputs": [],
   "source": [
    "data_aug=tf.keras.preprocessing.image.ImageDataGenerator(\n",
    "    featurewise_center=True,\n",
    "    featurewise_std_normalization=True,\n",
    "    rotation_range=20,\n",
    "    width_shift_range=0.2,\n",
    "    height_shift_range=0.2,\n",
    "    horizontal_flip=True)"
   ]
  },
  {
   "cell_type": "code",
   "execution_count": 9,
   "metadata": {},
   "outputs": [],
   "source": [
    "img=tf.keras.preprocessing.image.load_img('modi.jpg')\n",
    "x=tf.keras.preprocessing.image.img_to_array(img)\n",
    "x=x.reshape((1,)+x.shape)"
   ]
  },
  {
   "cell_type": "code",
   "execution_count": 10,
   "metadata": {},
   "outputs": [
    {
     "data": {
      "text/plain": [
       "array([[[[ 24.,  38.,  47.],\n",
       "         [ 70.,  85.,  94.],\n",
       "         [ 55.,  70.,  78.],\n",
       "         ...,\n",
       "         [ 58.,  65.,  76.],\n",
       "         [ 73.,  80.,  91.],\n",
       "         [ 36.,  43.,  54.]],\n",
       "\n",
       "        [[ 97., 112., 120.],\n",
       "         [143., 157., 166.],\n",
       "         [127., 142., 151.],\n",
       "         ...,\n",
       "         [147., 155., 166.],\n",
       "         [162., 170., 181.],\n",
       "         [125., 132., 144.]],\n",
       "\n",
       "        [[ 92., 107., 116.],\n",
       "         [139., 154., 162.],\n",
       "         [124., 138., 147.],\n",
       "         ...,\n",
       "         [116., 123., 134.],\n",
       "         [131., 138., 149.],\n",
       "         [ 94., 101., 112.]],\n",
       "\n",
       "        ...,\n",
       "\n",
       "        [[ 96.,  95., 118.],\n",
       "         [170., 168., 191.],\n",
       "         [165., 163., 187.],\n",
       "         ...,\n",
       "         [151., 156., 170.],\n",
       "         [166., 171., 185.],\n",
       "         [123., 128., 142.]],\n",
       "\n",
       "        [[ 96.,  95., 116.],\n",
       "         [170., 168., 189.],\n",
       "         [165., 164., 185.],\n",
       "         ...,\n",
       "         [153., 155., 170.],\n",
       "         [168., 170., 185.],\n",
       "         [124., 126., 141.]],\n",
       "\n",
       "        [[ 96.,  95., 116.],\n",
       "         [170., 168., 189.],\n",
       "         [165., 164., 185.],\n",
       "         ...,\n",
       "         [153., 155., 170.],\n",
       "         [168., 170., 185.],\n",
       "         [124., 126., 141.]]]], dtype=float32)"
      ]
     },
     "execution_count": 10,
     "metadata": {},
     "output_type": "execute_result"
    }
   ],
   "source": [
    "x"
   ]
  },
  {
   "cell_type": "code",
   "execution_count": 12,
   "metadata": {},
   "outputs": [],
   "source": [
    "i=0\n",
    "for batch in data_aug.flow(x,batch_size=1,save_to_dir='data_aug_img',save_prefix='modi',save_format='jpeg'):\n",
    "    i+=1\n",
    "    if i>50:\n",
    "        break"
   ]
  },
  {
   "cell_type": "code",
   "execution_count": null,
   "metadata": {},
   "outputs": [],
   "source": []
  }
 ],
 "metadata": {
  "kernelspec": {
   "display_name": "myenv",
   "language": "python",
   "name": "myenv"
  },
  "language_info": {
   "codemirror_mode": {
    "name": "ipython",
    "version": 3
   },
   "file_extension": ".py",
   "mimetype": "text/x-python",
   "name": "python",
   "nbconvert_exporter": "python",
   "pygments_lexer": "ipython3",
   "version": "3.6.12"
  }
 },
 "nbformat": 4,
 "nbformat_minor": 4
}
